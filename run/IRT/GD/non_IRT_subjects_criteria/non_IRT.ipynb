{
 "cells": [
  {
   "cell_type": "code",
   "execution_count": 2,
   "metadata": {},
   "outputs": [],
   "source": [
    "import pandas as pd\n",
    "import numpy as np\n",
    "import random\n",
    "import torch\n",
    "import json\n",
    "import warnings\n",
    "import matplotlib.pyplot as plt\n",
    "warnings.filterwarnings('ignore')"
   ]
  },
  {
   "cell_type": "code",
   "execution_count": 3,
   "metadata": {},
   "outputs": [],
   "source": [
    "from types import SimpleNamespace\n",
    "\n",
    "# Define your parameters as a dictionary\n",
    "parameters_dict = {\n",
    "    \"subjects\": '경제', # 수학Ⅰ,수학Ⅱ\n",
    "    \"num_problems\": 10,\n",
    "    'set_type':['EC040003','EC040014'],\n",
    "    \"seed\": 42,\n",
    "    \"original_data_path\": '/root/jw/TAPTAP_IRT/data/full_data',\n",
    "    \"same_standard\":  'middle_category',  \n",
    "    \"IQR_range\": 1.5\n",
    "}\n",
    "\n",
    "def set_seed(seed):\n",
    "    random.seed(seed)  \n",
    "    np.random.seed(seed)  \n",
    "    torch.manual_seed(seed)\n",
    "    torch.cuda.manual_seed(seed)\n",
    "    torch.cuda.manual_seed_all(seed)  \n",
    "\n",
    "# Convert dictionary to SimpleNamespace\n",
    "parameters = SimpleNamespace(**parameters_dict)\n",
    "set_seed(parameters.seed)\n",
    "subject_mapping_dict = {\"통합과학\":\"Science\",\"통합사회\":\"Humanities\",\"수학Ⅰ,수학Ⅱ\":'Math',\"독해,듣기\":'English',\"독서,문학\":\"Korean\",\"한국사\":\"Korean History\", \"생활과 윤리\":\"Life N Ethics\", \"정치와 법\":\"Politics N Law\", \"한국지리\":\"Korean Geo.\", \"세계지리\":\"World Geo.\", \"사회?문화\":\"Life Culture\", \"동아시아사\":\"East Asian History\", \"세계사\":\"World History\", \"윤리와 사상\":\"Ethical Philosopy\", \"경제\":\"Economics\",\n",
    " \"물리학Ⅰ\":\"PhysicsⅠ\", \"화학Ⅰ\":\"ChemistryⅠ\", \"생명과학Ⅰ\":\"BiologyⅠ\", \"지구과학Ⅰ\":\"Earth ScienceⅠ\", \"지구과학Ⅱ\":\"Earth ScienceⅡ\", \"생명과학Ⅱ\":\"BiologyⅡ\", \"화학Ⅱ\":\"ChemistryⅡ\", \"물리학Ⅱ\":\"PhysicsⅡ\"}\n"
   ]
  },
  {
   "cell_type": "code",
   "execution_count": 4,
   "metadata": {},
   "outputs": [
    {
     "name": "stdout",
     "output_type": "stream",
     "text": [
      "subjects_list ['경제']\n"
     ]
    },
    {
     "data": {
      "text/plain": [
       "(1842, 14)"
      ]
     },
     "execution_count": 4,
     "metadata": {},
     "output_type": "execute_result"
    }
   ],
   "source": [
    "###### import original datasets\n",
    "# code: codename,  {1:국어}\n",
    "category = pd.read_csv(f'{parameters.original_data_path}/perfectexam_category_202404031323.csv', encoding='cp949')\n",
    "problem = pd.read_csv(f'{parameters.original_data_path}/perfectexam_problem_202404031323.csv', encoding='cp949')\n",
    "member_exam_answer = pd.read_csv(f'{parameters.original_data_path}/perfectexam_member_exam_answer_202404031323.csv', encoding='cp949')\n",
    "member_exam = pd.read_csv(f'{parameters.original_data_path}/perfectexam_member_exam_202404031323.csv', encoding='cp949')\n",
    "exam_in_range = pd.read_csv(f'{parameters.original_data_path}/perfectexam_exam_202404031323.csv', encoding='cp949')\n",
    "\n",
    "category_simple = category[['code', 'code_name']]\n",
    "problem_simple = problem[['seq', 'subject', 'big_category', 'middle_category','small_category','point','answer_rate',\"set_type\", \"ref_num\"]]\n",
    "member_exam_answer_simple = member_exam_answer[['member_idx', 'member_exam_seq', 'problem_seq', 'answer_dttm','correct_yn']]\n",
    "member_exam_simple = member_exam[['seq', 'exam_seq', 'title']]\n",
    "first_merge = member_exam_answer_simple.merge(member_exam_simple, left_on='member_exam_seq', right_on='seq', how='left').drop(columns='seq')\n",
    "second_merge = first_merge[first_merge['exam_seq'].isin(exam_in_range['seq'])]\n",
    "third_merge = second_merge.merge(exam_in_range[['seq', 'title']], left_on='exam_seq', right_on='seq', how='left').drop(columns=['seq', 'exam_seq', 'title_x'])\n",
    "member_exam_answer_in_range = third_merge.merge(problem_simple, left_on='problem_seq', right_on='seq', how='left').drop(columns='seq')\n",
    "category_dict = pd.Series(category_simple['code_name'].values, index=category_simple['code']).to_dict()\n",
    "for column in ['subject', 'big_category', 'middle_category','small_category']:\n",
    "    member_exam_answer_in_range[column] = member_exam_answer_in_range[column].map(category_dict)\n",
    "\n",
    "###### filter by subjects\n",
    "subjects_list = parameters.subjects.split(',')\n",
    "print('subjects_list',subjects_list)\n",
    "filtered_data = member_exam_answer_in_range[member_exam_answer_in_range['subject'].isin(subjects_list)]\n",
    "filtered_data.shape"
   ]
  },
  {
   "cell_type": "markdown",
   "metadata": {},
   "source": [
    "## Calculate correct_rate by tatap data"
   ]
  },
  {
   "cell_type": "code",
   "execution_count": 5,
   "metadata": {},
   "outputs": [
    {
     "name": "stdout",
     "output_type": "stream",
     "text": [
      "   problem_seq response_summary  probability\n",
      "0        10095        0:9, 1:25         73.5\n",
      "1        10096     0:129, 1:221         63.1\n",
      "2        10098       0:17, 1:16         48.5\n",
      "3        10102       0:18, 1:74         80.4\n",
      "4        10104       0:19, 1:24         55.8\n",
      "5        10107       0:12, 1:15         55.6\n",
      "6        31335        0:9, 1:13         59.1\n",
      "7        31612       0:19, 1:26         57.8\n",
      "8        36639       0:22, 1:36         62.1\n",
      "9        36642       0:13, 1:48         78.7\n"
     ]
    }
   ],
   "source": [
    "import json \n",
    "response_count= pd.read_csv(f'../detailed/10_{parameters.subjects}_answer_count_taptap.csv', encoding='utf-8')\n",
    "def calculate_probability(summary):\n",
    "    parts = summary.split(', ')\n",
    "    count_0 = int(parts[0].split(':')[1])\n",
    "    count_1 = int(parts[1].split(':')[1])\n",
    "    total = count_0 + count_1\n",
    "    probability = round((count_1 / total)*100,1)\n",
    "    return probability\n",
    "\n",
    "response_count['probability'] = response_count['response_summary'].apply(calculate_probability)\n",
    "\n",
    "print(response_count)\n"
   ]
  },
  {
   "cell_type": "code",
   "execution_count": 6,
   "metadata": {},
   "outputs": [
    {
     "data": {
      "text/html": [
       "<div>\n",
       "<style scoped>\n",
       "    .dataframe tbody tr th:only-of-type {\n",
       "        vertical-align: middle;\n",
       "    }\n",
       "\n",
       "    .dataframe tbody tr th {\n",
       "        vertical-align: top;\n",
       "    }\n",
       "\n",
       "    .dataframe thead th {\n",
       "        text-align: right;\n",
       "    }\n",
       "</style>\n",
       "<table border=\"1\" class=\"dataframe\">\n",
       "  <thead>\n",
       "    <tr style=\"text-align: right;\">\n",
       "      <th></th>\n",
       "      <th>problem_seq</th>\n",
       "      <th>response_summary</th>\n",
       "      <th>probability</th>\n",
       "    </tr>\n",
       "  </thead>\n",
       "  <tbody>\n",
       "    <tr>\n",
       "      <th>0</th>\n",
       "      <td>10095</td>\n",
       "      <td>0:9, 1:25</td>\n",
       "      <td>73.5</td>\n",
       "    </tr>\n",
       "    <tr>\n",
       "      <th>1</th>\n",
       "      <td>10096</td>\n",
       "      <td>0:129, 1:221</td>\n",
       "      <td>63.1</td>\n",
       "    </tr>\n",
       "    <tr>\n",
       "      <th>2</th>\n",
       "      <td>10098</td>\n",
       "      <td>0:17, 1:16</td>\n",
       "      <td>48.5</td>\n",
       "    </tr>\n",
       "    <tr>\n",
       "      <th>3</th>\n",
       "      <td>10102</td>\n",
       "      <td>0:18, 1:74</td>\n",
       "      <td>80.4</td>\n",
       "    </tr>\n",
       "    <tr>\n",
       "      <th>4</th>\n",
       "      <td>10104</td>\n",
       "      <td>0:19, 1:24</td>\n",
       "      <td>55.8</td>\n",
       "    </tr>\n",
       "    <tr>\n",
       "      <th>5</th>\n",
       "      <td>10107</td>\n",
       "      <td>0:12, 1:15</td>\n",
       "      <td>55.6</td>\n",
       "    </tr>\n",
       "    <tr>\n",
       "      <th>6</th>\n",
       "      <td>31335</td>\n",
       "      <td>0:9, 1:13</td>\n",
       "      <td>59.1</td>\n",
       "    </tr>\n",
       "    <tr>\n",
       "      <th>7</th>\n",
       "      <td>31612</td>\n",
       "      <td>0:19, 1:26</td>\n",
       "      <td>57.8</td>\n",
       "    </tr>\n",
       "    <tr>\n",
       "      <th>8</th>\n",
       "      <td>36639</td>\n",
       "      <td>0:22, 1:36</td>\n",
       "      <td>62.1</td>\n",
       "    </tr>\n",
       "    <tr>\n",
       "      <th>9</th>\n",
       "      <td>36642</td>\n",
       "      <td>0:13, 1:48</td>\n",
       "      <td>78.7</td>\n",
       "    </tr>\n",
       "  </tbody>\n",
       "</table>\n",
       "</div>"
      ],
      "text/plain": [
       "   problem_seq response_summary  probability\n",
       "0        10095        0:9, 1:25         73.5\n",
       "1        10096     0:129, 1:221         63.1\n",
       "2        10098       0:17, 1:16         48.5\n",
       "3        10102       0:18, 1:74         80.4\n",
       "4        10104       0:19, 1:24         55.8\n",
       "5        10107       0:12, 1:15         55.6\n",
       "6        31335        0:9, 1:13         59.1\n",
       "7        31612       0:19, 1:26         57.8\n",
       "8        36639       0:22, 1:36         62.1\n",
       "9        36642       0:13, 1:48         78.7"
      ]
     },
     "execution_count": 6,
     "metadata": {},
     "output_type": "execute_result"
    }
   ],
   "source": [
    "response_count"
   ]
  },
  {
   "cell_type": "code",
   "execution_count": 7,
   "metadata": {},
   "outputs": [
    {
     "name": "stdout",
     "output_type": "stream",
     "text": [
      "   problem_seq response_summary  probability  point\n",
      "0        10095        0:9, 1:25         73.5      2\n",
      "1        10096     0:129, 1:221         63.1      3\n",
      "2        10098       0:17, 1:16         48.5      3\n",
      "3        10102       0:18, 1:74         80.4      3\n",
      "4        10104       0:19, 1:24         55.8      2\n",
      "5        10107       0:12, 1:15         55.6      3\n",
      "6        31335        0:9, 1:13         59.1      2\n",
      "7        31612       0:19, 1:26         57.8      3\n",
      "8        36639       0:22, 1:36         62.1      2\n",
      "9        36642       0:13, 1:48         78.7      2\n"
     ]
    }
   ],
   "source": [
    "problem_seq_keys = list(map(int, response_count['problem_seq']))\n",
    "filtered_problems = problem[problem['seq'].isin(problem_seq_keys)]\n",
    "\n",
    "max_points = filtered_problems.groupby('seq')['point'].max()\n",
    "\n",
    "if 'max_point' in response_count.columns:\n",
    "    response_count = response_count.rename(columns={'max_point': 'existing_max_point'})\n",
    "\n",
    "# Merge the max_points DataFrame with the response_count DataFrame\n",
    "response_count = response_count.merge(max_points, left_on='problem_seq', right_on='seq', how='left')\n",
    "\n",
    "# Drop the unnecessary columns\n",
    "columns_to_drop = ['seq_x', 'max_point_x', 'seq_y', 'max_point_y', 'existing_max_point']\n",
    "response_count_taptap_df = response_count.drop(columns=[col for col in columns_to_drop if col in response_count.columns])\n",
    "\n",
    "print(response_count_taptap_df)\n"
   ]
  },
  {
   "cell_type": "code",
   "execution_count": 75,
   "metadata": {},
   "outputs": [
    {
     "data": {
      "image/png": "[encoded data removed]",
      "text/plain": [
       "<Figure size 640x480 with 1 Axes>"
      ]
     },
     "metadata": {},
     "output_type": "display_data"
    },
    {
     "data": {
      "text/plain": [
       "(14.0, 17.0)"
      ]
     },
     "execution_count": 75,
     "metadata": {},
     "output_type": "execute_result"
    }
   ],
   "source": [
    "# Number of students\n",
    "num_students = 3000\n",
    "students_scores = pd.DataFrame(index=range(num_students), columns=['score'])\n",
    "correct_rate_taptap = response_count_taptap_df['probability']\n",
    "points = response_count_taptap_df['point']\n",
    "\n",
    "score_list_taptapp = []\n",
    "# Run the simulation\n",
    "for i in range(num_students):\n",
    "    # Simulate student answers (1 for correct, 0 for incorrect) using Bernoulli distribution\n",
    "    correct_answers = np.random.binomial(1, response_count_taptap_df['probability'] / 100)\n",
    "    target_score = sum(r * d for r, d in zip(correct_answers, points))\n",
    "    # Initialize inconsistency count\n",
    "    inconsistency_count = 0\n",
    "    total_possible_inconsistencies = 0\n",
    "    # Iterate over all pairs of questions\n",
    "    for i in range(len(points)):\n",
    "        for j in range(i + 1, len(points)):\n",
    "            if points[i] < points[j]:\n",
    "                total_possible_inconsistencies += 1\n",
    "                if correct_answers[i] == 0 and correct_answers[j] == 1:\n",
    "                    inconsistency_count += 1\n",
    "            elif points[i] > points[j]:\n",
    "                total_possible_inconsistencies += 1\n",
    "                if correct_answers[i] == 1 and correct_answers[j] == 0:\n",
    "                    inconsistency_count += 1\n",
    "\n",
    "    # Calculate inconsistency rate\n",
    "    if total_possible_inconsistencies > 0:\n",
    "        inconsistency_rate = inconsistency_count / total_possible_inconsistencies\n",
    "    else:\n",
    "        inconsistency_rate = 0\n",
    "\n",
    "    # Parameters for adjusted penalty\n",
    "    penalty_strength = 0.3    # Maximum penalty reduction\n",
    "    penalty_threshold = 0.2   # Threshold above which penalty starts\n",
    "    alpha = 2                 # Controls sensitivity to inconsistency increases\n",
    "\n",
    "    # Apply adjusted penalty\n",
    "    if inconsistency_rate <= penalty_threshold:\n",
    "        penalty_factor = 1  \n",
    "    else:\n",
    "        normalized_inconsistency = (inconsistency_rate - penalty_threshold) / (1 - penalty_threshold)\n",
    "        penalty_factor = 1 - penalty_strength * (normalized_inconsistency) ** alpha\n",
    "        penalty_factor = max(penalty_factor, 1 - penalty_strength)\n",
    "\n",
    "    target_score *= penalty_factor\n",
    "    ################\n",
    "    score_list_taptapp.append(target_score)\n",
    "\n",
    "\n",
    "score_series = pd.Series(score_list_taptapp)\n",
    "# Generate the histogram of student scores\n",
    "score_series.hist(bins=20)\n",
    "plt.xlabel('Score')\n",
    "plt.ylabel('Number of Students')\n",
    "plt.title(f'Histogram of Student Scores for {subject_mapping_dict[parameters.subjects]} using TAPTAP prob.')\n",
    "plt.show()\n",
    "\n",
    "# Calculate the score thresholds for the top 30% and 60%\n",
    "threshold_33 = score_series.quantile(0.33)  # Bottom 33%\n",
    "threshold_66 = score_series.quantile(0.66)  # Top 66%\n",
    "\n",
    "threshold_33, threshold_66\n"
   ]
  },
  {
   "cell_type": "markdown",
   "metadata": {},
   "source": [
    "## Use given correct_rate"
   ]
  },
  {
   "cell_type": "code",
   "execution_count": 77,
   "metadata": {},
   "outputs": [
    {
     "name": "stdout",
     "output_type": "stream",
     "text": [
      "{'36639': [82.0, 2], '36642': [89.0, 2], '31612': [81.0, 3], '31335': [95.0, 2], '10095': [79.0, 2], '10096': [86.0, 3], '10098': [66.0, 3], '10102': [61.0, 3], '10104': [66.0, 2], '10107': [31.0, 3]}\n"
     ]
    }
   ],
   "source": [
    "# Create the final dictionary\n",
    "answer_rate_dict = {str(row['seq']): [row['answer_rate'], row['point']] for _, row in filtered_problems.iterrows()} # {'36639': [82.0, 2], '36642': [89.0, 2], ...}\n",
    "# first is 맞을 확률, second is 배점\n",
    "print(answer_rate_dict)"
   ]
  },
  {
   "cell_type": "code",
   "execution_count": 92,
   "metadata": {},
   "outputs": [
    {
     "data": {
      "image/png": "[encoded data removed]",
      "text/plain": [
       "<Figure size 640x480 with 1 Axes>"
      ]
     },
     "metadata": {},
     "output_type": "display_data"
    },
    {
     "data": {
      "text/plain": [
       "(17.0, 20.0)"
      ]
     },
     "execution_count": 92,
     "metadata": {},
     "output_type": "execute_result"
    }
   ],
   "source": [
    "num_students = 3000\n",
    "students_scores = pd.DataFrame(index=range(num_students), columns=['score'])\n",
    "correct_rate_nation = [value[0] for value in answer_rate_dict.values()]\n",
    "points = [value[1] for value in answer_rate_dict.values()]\n",
    "\n",
    "score_list_nation = []\n",
    "# Run the simulation\n",
    "for i in range(num_students):\n",
    "    # Simulate student answers (1 for correct, 0 for incorrect) using Bernoulli distribution\n",
    "    correct_answers = [np.random.binomial(1, rate / 100) for rate in correct_rate_nation]\n",
    "    target_score = sum(r * d for r, d in zip(correct_answers, points))\n",
    "    # Initialize inconsistency count\n",
    "    inconsistency_count = 0\n",
    "    total_possible_inconsistencies = 0\n",
    "    # Iterate over all pairs of questions\n",
    "    for i in range(len(points)):\n",
    "        for j in range(i + 1, len(points)):\n",
    "            if points[i] < points[j]:\n",
    "                total_possible_inconsistencies += 1\n",
    "                if correct_answers[i] == 0 and correct_answers[j] == 1:\n",
    "                    inconsistency_count += 1\n",
    "            elif points[i] > points[j]:\n",
    "                total_possible_inconsistencies += 1\n",
    "                if correct_answers[i] == 1 and correct_answers[j] == 0:\n",
    "                    inconsistency_count += 1\n",
    "    # Calculate inconsistency rate\n",
    "    if total_possible_inconsistencies > 0:\n",
    "        inconsistency_rate = inconsistency_count / total_possible_inconsistencies\n",
    "    else:\n",
    "        inconsistency_rate = 0\n",
    "    # Parameters for adjusted penalty\n",
    "    penalty_strength = 0.3    # Maximum penalty reduction\n",
    "    penalty_threshold = 0.2   # Threshold above which penalty starts\n",
    "    alpha = 2                 # Controls sensitivity to inconsistency increases\n",
    "    # Apply adjusted penalty\n",
    "    if inconsistency_rate <= penalty_threshold:\n",
    "        penalty_factor = 1  \n",
    "    else:\n",
    "        normalized_inconsistency = (inconsistency_rate - penalty_threshold) / (1 - penalty_threshold)\n",
    "        penalty_factor = 1 - penalty_strength * (normalized_inconsistency) ** alpha\n",
    "        penalty_factor = max(penalty_factor, 1 - penalty_strength)\n",
    "\n",
    "    target_score *= penalty_factor\n",
    "    ################\n",
    "    score_list_nation.append(target_score)\n",
    "\n",
    "score_series = pd.Series(score_list_nation)\n",
    "# Generate the histogram of student scores\n",
    "score_series.hist(bins=20)\n",
    "plt.xlabel('Score')\n",
    "plt.ylabel('Number of Students')\n",
    "plt.title(f'Histogram of Student Scores for {subject_mapping_dict[parameters.subjects]} using NATION prob.')\n",
    "plt.show()\n",
    "\n",
    "# Calculate the score thresholds for the top 30% and 60%\n",
    "threshold_33 = score_series.quantile(0.33)  # Bottom 33%\n",
    "threshold_66 = score_series.quantile(0.66)  # Top 66%\n",
    "\n",
    "threshold_33, threshold_66"
   ]
  }
 ],
 "metadata": {
  "kernelspec": {
   "display_name": "lanchain",
   "language": "python",
   "name": "python3"
  },
  "language_info": {
   "codemirror_mode": {
    "name": "ipython",
    "version": 3
   },
   "file_extension": ".py",
   "mimetype": "text/x-python",
   "name": "python",
   "nbconvert_exporter": "python",
   "pygments_lexer": "ipython3",
   "version": "3.9.19"
  }
 },
 "nbformat": 4,
 "nbformat_minor": 2
}
